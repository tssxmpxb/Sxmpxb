{
  "nbformat": 4,
  "nbformat_minor": 0,
  "metadata": {
    "colab": {
      "provenance": [],
      "authorship_tag": "ABX9TyM5pf7+XcPxoFMPr5ucsjty",
      "include_colab_link": true
    },
    "kernelspec": {
      "name": "python3",
      "display_name": "Python 3"
    },
    "language_info": {
      "name": "python"
    }
  },
  "cells": [
    {
      "cell_type": "markdown",
      "metadata": {
        "id": "view-in-github",
        "colab_type": "text"
      },
      "source": [
        "<a href=\"https://colab.research.google.com/github/tssxmpxb/Sxmpxb/blob/main/untitled0.ipynb\" target=\"_parent\"><img src=\"https://colab.research.google.com/assets/colab-badge.svg\" alt=\"Open In Colab\"/></a>"
      ]
    },
    {
      "cell_type": "code",
      "execution_count": null,
      "metadata": {
        "id": "Lx_ybc0Arm9J"
      },
      "outputs": [],
      "source": [
        "import time\n",
        "\n",
        "name = \"\\033[38;2;255;165;0m ถ้าใจของเธอมีคำตอบ ใช้ใจนำทางก็พอ ^_^ \\033[0m\"\n",
        "\n",
        "lyrics = [\n",
        "    [\"ใช่ฉัน ใช่ฉันบ้างหรือเปล่า\", 4.1],\n",
        "    [\"คล้ายคนที่รอบ้างหรือเปล่า\", 3],\n",
        "    [\"คนที่เธออยากใช้คำว่าเรา\", 3.9],\n",
        "    [\"คนที่เธออธิษฐานให้ได้เจอ...\", 3.5]\n",
        "]\n",
        "\n",
        "for line in lyrics:\n",
        "  print(line[0])\n",
        "  time.sleep(line[1])\n",
        "\n",
        "  print('\\n')\n",
        "print(name + '\\n\\n\\033[38;2;255;165;0m บ่ใช่กะต้องใช่ 555 \\033[0m')"
      ]
    }
  ]
}