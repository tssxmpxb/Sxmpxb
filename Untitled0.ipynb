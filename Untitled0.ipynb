{
  "nbformat": 4,
  "nbformat_minor": 0,
  "metadata": {
    "colab": {
      "provenance": [],
      "authorship_tag": "ABX9TyMN5OBSauonqBepJEa8+A9h",
      "include_colab_link": true
    },
    "kernelspec": {
      "name": "python3",
      "display_name": "Python 3"
    },
    "language_info": {
      "name": "python"
    }
  },
  "cells": [
    {
      "cell_type": "markdown",
      "metadata": {
        "id": "view-in-github",
        "colab_type": "text"
      },
      "source": [
        "<a href=\"https://colab.research.google.com/github/tssxmpxb/Sxmpxb/blob/main/Untitled0.ipynb\" target=\"_parent\"><img src=\"https://colab.research.google.com/assets/colab-badge.svg\" alt=\"Open In Colab\"/></a>"
      ]
    },
    {
      "cell_type": "code",
      "execution_count": null,
      "metadata": {
        "id": "Lx_ybc0Arm9J"
      },
      "outputs": [],
      "source": [
        "import time\n",
        "\n",
        "time.sleep(1)\n",
        "lyrics = [\n",
        "  [\"ขออยู่ในชีวิตที่เหลือของเธอได้ไหม\",5.5],\n",
        "  [\"อยากลืมตาแล้วได้พบเธอจนวันสุดท้าย\",5.5],\n",
        "  [\"อยากเป็นคนที่ได้นอนดูดาวข้างเธออีกหมื่นวัน\",4.5],\n",
        "  [\"และเอนตัวไปจุมพิตเธอสักล้านครั้ง\",3.5],\n",
        "  [\"อยู่กับฉันไปนานๆ นะเธอ...\",5.5]\n",
        "]\n",
        "\n",
        "for line in lyrics:\n",
        "  print(line[0] + \"\\n\")\n",
        "  time.sleep(line[1])"
      ]
    }
  ]
}