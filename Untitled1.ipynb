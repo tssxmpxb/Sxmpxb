{
  "nbformat": 4,
  "nbformat_minor": 0,
  "metadata": {
    "colab": {
      "provenance": [],
      "authorship_tag": "ABX9TyN+wg478Mv5eheWe97nUY8/",
      "include_colab_link": true
    },
    "kernelspec": {
      "name": "python3",
      "display_name": "Python 3"
    },
    "language_info": {
      "name": "python"
    }
  },
  "cells": [
    {
      "cell_type": "markdown",
      "metadata": {
        "id": "view-in-github",
        "colab_type": "text"
      },
      "source": [
        "<a href=\"https://colab.research.google.com/github/tssxmpxb/Sxmpxb/blob/main/Untitled1.ipynb\" target=\"_parent\"><img src=\"https://colab.research.google.com/assets/colab-badge.svg\" alt=\"Open In Colab\"/></a>"
      ]
    },
    {
      "cell_type": "code",
      "source": [
        "import time\n",
        "import sys\n",
        "\n",
        "songname = \"\\033[38;2;255;165;0m ถ้าใจของเธอมีคำตอบ ใช้ใจนำทางก็พอ ^_^ \\033[0m\"\n",
        "\n",
        "lyrics = (\n",
        "    (\"ใช่ฉัน ใช่ฉันบ้างหรือเปล่า\", 4.1),\n",
        "    (\"คล้ายคนที่รอบ้างหรือเปล่า\", 3),\n",
        "    (\"คนที่เธออยากใช้คำว่าเรา\", 3.9),\n",
        "    (\"คนที่เธออธิษฐานให้ได้เจอ\", 3.5),\n",
        ")\n",
        "\n",
        "for line, delay in lyrics:\n",
        "    dpl = delay / len(line)\n",
        "    for char in line:\n",
        "        print(char, end='')\n",
        "        sys.stdout.flush()\n",
        "        time.sleep(dpl)\n",
        "    print('\\n')\n",
        "\n",
        "print(songname + '\\n\\n\\033[38;2;255;165;0m บ่ใช่กะต้องใช่ 555 \\033[0m')"
      ],
      "metadata": {
        "id": "v7fL1z5767_t"
      },
      "execution_count": null,
      "outputs": []
    }
  ]
}